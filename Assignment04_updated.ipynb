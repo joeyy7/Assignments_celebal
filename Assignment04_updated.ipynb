{
 "cells": [
  {
   "cell_type": "markdown",
   "metadata": {},
   "source": [
    "## Assignment \n",
    "Apply Bayes' Theorem to solve a medical diagnosis problem given conditional probabilities.Find the eigenvalues and corresponding eigenvectors of a given matrix.Calculate the determinant of a 3x3 matrix and find its inverse if possible.Describe the properties and applications of the Normal distribution and calculate probabilities using its properties "
   ]
  },
  {
   "cell_type": "code",
   "execution_count": 14,
   "metadata": {},
   "outputs": [],
   "source": [
    "import numpy as np\n",
    "import scipy.stats as stats\n"
   ]
  },
  {
   "cell_type": "code",
   "execution_count": 15,
   "metadata": {},
   "outputs": [],
   "source": [
    "# 1. Apply Bayes' Theorem\n",
    "def bayes_theorem(prior_A, prob_B_given_A, prob_B):\n",
    "    \"\"\"\n",
    "    Apply Bayes' Theorem.\n",
    "    P(A|B) = (P(B|A) * P(A)) / P(B)\n",
    "    \"\"\"\n",
    "    posterior_A_given_B = (prob_B_given_A * prior_A) / prob_B\n",
    "    return posterior_A_given_B"
   ]
  },
  {
   "cell_type": "code",
   "execution_count": 16,
   "metadata": {},
   "outputs": [],
   "source": [
    "# 2. Eigenvalues and Eigenvectors\n",
    "def eigen_decomposition(matrix):\n",
    "    eigenvalues, eigenvectors = np.linalg.eig(matrix)\n",
    "    return eigenvalues, eigenvectors\n"
   ]
  },
  {
   "cell_type": "code",
   "execution_count": 17,
   "metadata": {},
   "outputs": [],
   "source": [
    "# 3. Determinant and Inverse of a 3x3 Matrix\n",
    "def matrix_determinant(matrix):\n",
    "    \"\"\"\n",
    "    Calculate the determinant of a 3x3 matrix.\n",
    "    \"\"\"\n",
    "    det = np.linalg.det(matrix)\n",
    "    return det"
   ]
  },
  {
   "cell_type": "code",
   "execution_count": 18,
   "metadata": {},
   "outputs": [],
   "source": [
    "def matrix_inverse(matrix):\n",
    "    \"\"\"\n",
    "    Calculate the inverse of a 3x3 matrix if possible.\n",
    "    \"\"\"\n",
    "    det = matrix_determinant(matrix)\n",
    "    if det == 0:\n",
    "        return None  # The matrix is singular and cannot be inverted.\n",
    "    inverse = np.linalg.inv(matrix)\n",
    "    return inverse"
   ]
  },
  {
   "cell_type": "code",
   "execution_count": 19,
   "metadata": {},
   "outputs": [],
   "source": [
    "# 4. Normal Distribution\n",
    "def normal_distribution_properties():\n",
    "    \"\"\"\n",
    "    Describe properties of the Normal distribution.\n",
    "    \"\"\"\n",
    "    properties = {\n",
    "        \"Mean (μ)\": \"The center of the distribution.\",\n",
    "        \"Standard Deviation (σ)\": \"Measures the spread of the distribution.\",\n",
    "        \"Symmetry\": \"The normal distribution is symmetric about the mean.\",\n",
    "        \"68-95-99.7 Rule\": \"Approximately 68% of the data falls within 1σ, 95% within 2σ, and 99.7% within 3σ.\"\n",
    "    }\n",
    "    return properties"
   ]
  },
  {
   "cell_type": "code",
   "execution_count": 20,
   "metadata": {},
   "outputs": [],
   "source": [
    "def normal_distribution_probability(mean, std_dev, value):\n",
    "    \"\"\"\n",
    "    Calculate the probability of a value in a normal distribution.\n",
    "    \"\"\"\n",
    "    probability = stats.norm.cdf(value, loc=mean, scale=std_dev)\n",
    "    return probability"
   ]
  },
  {
   "cell_type": "code",
   "execution_count": 21,
   "metadata": {},
   "outputs": [
    {
     "name": "stdout",
     "output_type": "stream",
     "text": [
      "Posterior Probability: 0.1800\n"
     ]
    }
   ],
   "source": [
    "# Bayes' Theorem\n",
    "prior_A = 0.01  # Prior probability of having the disease\n",
    "prob_B_given_A = 0.9  # Probability of a positive test given the disease\n",
    "prob_B = 0.05  # Probability of a positive test\n",
    "posterior = bayes_theorem(prior_A, prob_B_given_A, prob_B)\n",
    "print(f\"Posterior Probability: {posterior:.4f}\")\n",
    "    "
   ]
  },
  {
   "cell_type": "code",
   "execution_count": 22,
   "metadata": {},
   "outputs": [
    {
     "name": "stdout",
     "output_type": "stream",
     "text": [
      "Eigenvalues: [6.82842712 4.         1.17157288]\n",
      "Eigenvectors: [[-5.00000000e-01  7.07106781e-01  5.00000000e-01]\n",
      " [-7.07106781e-01  4.05405432e-16 -7.07106781e-01]\n",
      " [-5.00000000e-01 -7.07106781e-01  5.00000000e-01]]\n"
     ]
    }
   ],
   "source": [
    "# Eigenvalues and Eigenvectors\n",
    "matrix = np.array([[4, 2, 0], [2, 4, 2], [0, 2, 4]])\n",
    "eigenvalues, eigenvectors = eigen_decomposition(matrix)\n",
    "print(f\"Eigenvalues: {eigenvalues}\")\n",
    "print(f\"Eigenvectors: {eigenvectors}\")"
   ]
  },
  {
   "cell_type": "code",
   "execution_count": 23,
   "metadata": {},
   "outputs": [
    {
     "name": "stdout",
     "output_type": "stream",
     "text": [
      "Determinant: 32.0000\n",
      "Inverse: \n",
      "[[ 0.375 -0.25   0.125]\n",
      " [-0.25   0.5   -0.25 ]\n",
      " [ 0.125 -0.25   0.375]]\n"
     ]
    }
   ],
   "source": [
    "# Determinant and Inverse of a 3x3 Matrix\n",
    "det = matrix_determinant(matrix)\n",
    "inverse = matrix_inverse(matrix)\n",
    "print(f\"Determinant: {det:.4f}\")\n",
    "if inverse is not None:\n",
    "    print(f\"Inverse: \\n{inverse}\")\n",
    "else:\n",
    "    print(\"The matrix is singular and cannot be inverted.\")"
   ]
  },
  {
   "cell_type": "code",
   "execution_count": 24,
   "metadata": {},
   "outputs": [
    {
     "name": "stdout",
     "output_type": "stream",
     "text": [
      "Normal Distribution Properties:\n",
      "Mean (μ): The center of the distribution.\n",
      "Standard Deviation (σ): Measures the spread of the distribution.\n",
      "Symmetry: The normal distribution is symmetric about the mean.\n",
      "68-95-99.7 Rule: Approximately 68% of the data falls within 1σ, 95% within 2σ, and 99.7% within 3σ.\n"
     ]
    }
   ],
   "source": [
    "# Normal Distribution Properties and Probabilities\n",
    "properties = normal_distribution_properties()\n",
    "print(\"Normal Distribution Properties:\")\n",
    "for key, value in properties.items():\n",
    "    print(f\"{key}: {value}\")"
   ]
  },
  {
   "cell_type": "code",
   "execution_count": 25,
   "metadata": {},
   "outputs": [
    {
     "name": "stdout",
     "output_type": "stream",
     "text": [
      "Probability of 1.96 in N(0, 1^2): 0.9750\n"
     ]
    }
   ],
   "source": [
    "mean = 0\n",
    "std_dev = 1\n",
    "value = 1.96\n",
    "probability = normal_distribution_probability(mean, std_dev, value)\n",
    "print(f\"Probability of {value} in N({mean}, {std_dev}^2): {probability:.4f}\")"
   ]
  }
 ],
 "metadata": {
  "kernelspec": {
   "display_name": "Python 3",
   "language": "python",
   "name": "python3"
  },
  "language_info": {
   "codemirror_mode": {
    "name": "ipython",
    "version": 3
   },
   "file_extension": ".py",
   "mimetype": "text/x-python",
   "name": "python",
   "nbconvert_exporter": "python",
   "pygments_lexer": "ipython3",
   "version": "3.9.13"
  }
 },
 "nbformat": 4,
 "nbformat_minor": 2
}
