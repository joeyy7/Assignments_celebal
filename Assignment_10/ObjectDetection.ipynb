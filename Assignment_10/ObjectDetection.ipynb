{
 "cells": [
  {
   "cell_type": "markdown",
   "metadata": {},
   "source": [
    "## Attention\n",
    "This is an experimental notebook, not the main file.. run the mainFile.py and read the README file"
   ]
  },
  {
   "cell_type": "code",
   "execution_count": 1,
   "metadata": {},
   "outputs": [],
   "source": [
    "import os\n",
    "import yaml\n",
    "import cv2\n",
    "import torch\n"
   ]
  },
  {
   "cell_type": "code",
   "execution_count": 2,
   "metadata": {},
   "outputs": [
    {
     "data": {
      "text/plain": [
       "1"
      ]
     },
     "execution_count": 2,
     "metadata": {},
     "output_type": "execute_result"
    }
   ],
   "source": [
    "# Create a virtual environment\n",
    "os.system(\"python3 -m venv yolov5-env\")\n",
    "os.system(\"source yolov5-env/bin/activate\")"
   ]
  },
  {
   "cell_type": "code",
   "execution_count": 27,
   "metadata": {},
   "outputs": [
    {
     "data": {
      "text/plain": [
       "0"
      ]
     },
     "execution_count": 27,
     "metadata": {},
     "output_type": "execute_result"
    }
   ],
   "source": [
    "# Define base path and use forward slashes\n",
    "yolov5_path = '/yolov5'\n",
    "dataset_path = '/dataset'\n",
    "data_yaml_path = '/dataset/data.yaml'\n"
   ]
  },
  {
   "cell_type": "code",
   "execution_count": 3,
   "metadata": {},
   "outputs": [
    {
     "data": {
      "text/plain": [
       "0"
      ]
     },
     "execution_count": 3,
     "metadata": {},
     "output_type": "execute_result"
    }
   ],
   "source": [
    "# Train the model\n",
    "train_command = f\"python {yolov5_path}/train.py --img 640 --batch 16 --epochs 50 --data {data_yaml_path} --cfg {yolov5_path}/models/yolov5s.yaml --weights {yolov5_path}/yolov5s-seg.pt --name my_yolov5_model\"\n",
    "print(f\"Running training command: {train_command}\")\n",
    "os.system(train_command)"
   ]
  },
  {
   "cell_type": "code",
   "execution_count": 29,
   "metadata": {},
   "outputs": [
    {
     "data": {
      "text/plain": [
       "1"
      ]
     },
     "execution_count": 29,
     "metadata": {},
     "output_type": "execute_result"
    }
   ],
   "source": [
    "# Verify the directory structure\n",
    "runs_dir = f'{yolov5_path}/runs'\n",
    "print(f\"Checking if 'runs' directory exists: {runs_dir}\")\n",
    "if not os.path.exists(runs_dir):\n",
    "    print(f\"'runs' directory not found. Check if training started successfully.\")"
   ]
  },
  {
   "cell_type": "code",
   "execution_count": 32,
   "metadata": {},
   "outputs": [
    {
     "name": "stdout",
     "output_type": "stream",
     "text": [
      "Running training command: python train.py --img 640 --batch 16 --epochs 50 --data data.yaml --cfg yolov5/models/yolov5s.yaml --weights yolov5/yolov5s.pt --name my_yolov5_model\n"
     ]
    },
    {
     "data": {
      "text/plain": [
       "1"
      ]
     },
     "execution_count": 32,
     "metadata": {},
     "output_type": "execute_result"
    }
   ],
   "source": [
    "train_dir = f'{yolov5_path}/runs/train/my_yolov5_model/weights'\n",
    "print(f\"Checking if weights directory exists: {train_dir}\")\n",
    "if not os.path.exists(train_dir):\n",
    "    print(f\"Weights directory not found: {train_dir}\")\n",
    "else:\n",
    "    weights_path = f'{train_dir}/best.pt'\n",
    "    print(f\"Checking if weights file exists: {weights_path}\")\n",
    "    if not os.path.exists(weights_path):\n",
    "        print(f\"Weights file not found: {weights_path}\")\n",
    "    else:\n",
    "        print(f\"Weights file found at: {weights_path}\")\n",
    "\n",
    "        # Validate the model\n",
    "        val_command = f\"python {yolov5_path}/val.py --data {data_yaml_path} --weights {weights_path} --img 640\"\n",
    "        print(f\"Running validation command: {val_command}\")\n",
    "        os.system(val_command)\n",
    "\n",
    "        # Test the model\n",
    "        test_command = f\"python {yolov5_path}/detect.py --weights {weights_path} --img 640 --source {dataset_path}/test\"\n",
    "        print(f\"Running test command: {test_command}\")\n",
    "        os.system(test_command)\n",
    "\n",
    "        # Real-Time Object Detection with Camera\n",
    "        print(f\"Loading model with weights: {weights_path}\")\n",
    "        model = torch.hub.load('ultralytics/yolov5', 'custom', path=weights_path, force_reload=True)\n",
    "\n",
    "        # Open the webcam\n",
    "        print(\"Opening webcam...\")\n",
    "        cap = cv2.VideoCapture(0)  # 0 is the default camera\n",
    "\n",
    "        while cap.isOpened():\n",
    "            ret, frame = cap.read()\n",
    "            if not ret:\n",
    "                break\n",
    "\n",
    "            # Perform object detection\n",
    "            results = model(frame)\n",
    "\n",
    "            # Render the results\n",
    "            frame = results.render()[0]\n",
    "\n",
    "            # Display the frame\n",
    "            cv2.imshow('YOLOv5 Live', frame)\n",
    "\n",
    "            # Exit on pressing 'q'\n",
    "            if cv2.waitKey(1) & 0xFF == ord('q'):\n",
    "                break\n",
    "\n",
    "        # Release the webcam and close windows\n",
    "        cap.release()\n",
    "        cv2.destroyAllWindows()"
   ]
  }
 ],
 "metadata": {
  "kernelspec": {
   "display_name": "Python 3",
   "language": "python",
   "name": "python3"
  },
  "language_info": {
   "codemirror_mode": {
    "name": "ipython",
    "version": 3
   },
   "file_extension": ".py",
   "mimetype": "text/x-python",
   "name": "python",
   "nbconvert_exporter": "python",
   "pygments_lexer": "ipython3",
   "version": "3.11.7"
  }
 },
 "nbformat": 4,
 "nbformat_minor": 2
}
